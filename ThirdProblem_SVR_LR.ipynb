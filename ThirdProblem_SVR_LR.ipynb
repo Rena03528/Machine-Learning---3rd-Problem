{
 "cells": [
  {
   "cell_type": "code",
   "execution_count": 1,
   "metadata": {},
   "outputs": [],
   "source": [
    "import numpy as np\n",
    "\n",
    "import tensorflow as tf\n",
    "from tensorflow import keras\n",
    "from tensorflow.keras import layers\n",
    "from tensorflow.keras.callbacks import EarlyStopping\n",
    "from tensorflow.keras.utils import to_categorical \n",
    "\n",
    "import keras\n",
    "from keras_tuner import HyperModel, RandomSearch\n",
    "from keras import layers, Sequential\n",
    "from keras import regularizers\n",
    "from keras.callbacks import EarlyStopping\n",
    "from keras.models import load_model\n",
    "\n",
    "from imblearn.over_sampling import SMOTE\n",
    "from imblearn.under_sampling import RandomUnderSampler\n",
    "\n",
    "from sklearn.model_selection import train_test_split\n",
    "from sklearn.utils.class_weight import compute_class_weight\n",
    "from sklearn.linear_model import LogisticRegression\n",
    "from sklearn.neighbors import KNeighborsClassifier\n",
    "from sklearn.metrics import confusion_matrix\n",
    "from sklearn.preprocessing import StandardScaler\n",
    "from sklearn.svm import SVC\n",
    "\n",
    "import matplotlib.pyplot as plt\n",
    "\n",
    "import seaborn as sns"
   ]
  },
  {
   "cell_type": "markdown",
   "metadata": {},
   "source": [
    "    Oversampling"
   ]
  },
  {
   "cell_type": "code",
   "execution_count": 2,
   "metadata": {},
   "outputs": [],
   "source": [
    "def oversampling(X_train, y_train):\n",
    "\n",
    "    smote = SMOTE(random_state=42)\n",
    "    X_train_os, y_train_os = smote.fit_resample(X_train, y_train)\n",
    "\n",
    "    return X_train_os, y_train_os"
   ]
  },
  {
   "cell_type": "markdown",
   "metadata": {},
   "source": [
    "    Undersampling"
   ]
  },
  {
   "cell_type": "code",
   "execution_count": 3,
   "metadata": {},
   "outputs": [],
   "source": [
    "def undersampling(X_train,y_train):\n",
    "\n",
    "    rus = RandomUnderSampler(random_state=42)\n",
    "    X_train_us, y_train_us = rus.fit_resample(X_train, y_train)\n",
    "\n",
    "    return X_train_us, y_train_us"
   ]
  },
  {
   "cell_type": "markdown",
   "metadata": {},
   "source": [
    "    Logistic Regression"
   ]
  },
  {
   "cell_type": "code",
   "execution_count": 4,
   "metadata": {},
   "outputs": [],
   "source": [
    "def logistic_regression(X_train, y_train, X, WC):\n",
    "    \n",
    "    scaler = StandardScaler()\n",
    "    X_train = scaler.fit_transform(X_train)\n",
    "    X = scaler.transform(X)\n",
    "    \n",
    "    if WC:\n",
    "        model = LogisticRegression(class_weight='balanced', max_iter=1000)\n",
    "    else:\n",
    "        model = LogisticRegression(max_iter=1000)\n",
    "    \n",
    "    model.fit(X_train, y_train)\n",
    "    y_pred = model.predict(X)\n",
    "    \n",
    "    return y_pred"
   ]
  },
  {
   "cell_type": "markdown",
   "metadata": {},
   "source": [
    "    SVM"
   ]
  },
  {
   "cell_type": "code",
   "execution_count": 5,
   "metadata": {},
   "outputs": [],
   "source": [
    "# Função para SVM com weighted classes\n",
    "def svm_classification(X_train, y_train, X, WC):\n",
    "    scaler = StandardScaler()\n",
    "    X_train = scaler.fit_transform(X_train)\n",
    "    X = scaler.transform(X)\n",
    "\n",
    "    # Define o modelo com ou sem weighted classes\n",
    "    if WC:\n",
    "        model = SVC(class_weight='balanced', kernel='linear')  # Podes experimentar outros kernels\n",
    "    else:\n",
    "        model = SVC(kernel='linear')\n",
    "\n",
    "    model.fit(X_train, y_train)\n",
    "    y_pred = model.predict(X)\n",
    "    return y_pred"
   ]
  },
  {
   "cell_type": "markdown",
   "metadata": {},
   "source": [
    "    Model evaluation"
   ]
  },
  {
   "cell_type": "code",
   "execution_count": 6,
   "metadata": {},
   "outputs": [],
   "source": [
    "def evaluate_model(cm):   \n",
    "    tn = cm[0, 0]  # True negatives\n",
    "    fp = cm[0, 1]  # False positives\n",
    "    fn = cm[1, 0]  # False negatives\n",
    "    tp = cm[1, 1]  # true positives\n",
    "\n",
    "    precision = tp / (tp + fp) if (tp + fp) > 0 else 0\n",
    "    recall = tp / (tp + fn) if (tp + fn) > 0 else 0\n",
    "    f1_score = (2 * precision * recall) / (precision + recall) if (precision + recall) > 0 else 0\n",
    "    accuracy = (tp + tn) / (tp + fp + fn + tn)\n",
    "    specificity = tn / (tn + fp) if (tn + fp) > 0 else 0\n",
    "    sensitivity = recall  # ou: tp / (tp + fn)\n",
    "    balanced_accuracy = (specificity + sensitivity) / 2\n",
    "\n",
    "    print(f\"f1 score:{f1_score}\")\n",
    "    print(f\"accuracy:{accuracy}\")\n",
    "    print(f\"balanced_accuracy:{balanced_accuracy}\")"
   ]
  },
  {
   "cell_type": "markdown",
   "metadata": {},
   "source": [
    "    Confusion Matrix"
   ]
  },
  {
   "cell_type": "code",
   "execution_count": null,
   "metadata": {},
   "outputs": [],
   "source": [
    "X_train = np.load(\"Xtrain1.npy\")  \n",
    "Y_train = np.load(\"Ytrain1.npy\")  \n",
    "\n",
    "X_train = X_train.astype('float32') / 255.0\n",
    "\n",
    "X_train, X_val, y_train, y_val = train_test_split(X_train, Y_train, test_size=0.2, random_state=42)\n",
    "\n",
    "print(X_train.shape)\n",
    "print(y_train.shape)\n",
    "\n",
    "WC = False  # Weighted classes\n",
    "OS = False # Oversampling\n",
    "US = False # Undersampling\n",
    "\n",
    "LR = True  # Logistic Regression\n",
    "SVM = False # SVM\n",
    "\n",
    "if OS:\n",
    "    print(\"oversampling\")\n",
    "    X_train, y_train = oversampling(X_train, y_train)\n",
    "elif US:\n",
    "    print(\"undersampling\")\n",
    "    X_train, y_train = undersampling(X_train,y_train)\n",
    "elif WC:\n",
    "    print(\"Class Weighted\")\n",
    "else:\n",
    "    print(\"Imbalanced\")\n",
    "\n",
    "if LR:\n",
    "    print(\"LOGISTIC REGRESSION\")\n",
    "    binary_predictions = logistic_regression(X_train, y_train, X_val, WC)\n",
    "\n",
    "if SVM:\n",
    "    print(\"SVM\")\n",
    "    binary_predictions = svm_classification(X_train, y_train, X_val, WC)\n",
    "\n",
    "cm = confusion_matrix(y_val, binary_predictions)\n",
    "\n",
    "if cm is not None:\n",
    "    plt.figure(figsize=(8, 6))\n",
    "    sns.heatmap(cm, annot=True, fmt='d', cmap='Blues', \n",
    "                xticklabels=np.unique(Y_train), \n",
    "                yticklabels=np.unique(Y_train))\n",
    "    plt.ylabel('True label')\n",
    "    plt.xlabel('Predicted label')\n",
    "    plt.title('Confusion Matrix')\n",
    "    plt.show()\n",
    "\n",
    "    print(\"Confusion Matrix:\")\n",
    "    print(cm)\n",
    "    evaluate_model(cm)\n",
    "else:\n",
    "    print(\"A matriz de confusão não foi criada. Verifique as condições.\")"
   ]
  }
 ],
 "metadata": {
  "kernelspec": {
   "display_name": "Python 3",
   "language": "python",
   "name": "python3"
  },
  "language_info": {
   "codemirror_mode": {
    "name": "ipython",
    "version": 3
   },
   "file_extension": ".py",
   "mimetype": "text/x-python",
   "name": "python",
   "nbconvert_exporter": "python",
   "pygments_lexer": "ipython3",
   "version": "3.12.6"
  }
 },
 "nbformat": 4,
 "nbformat_minor": 2
}
